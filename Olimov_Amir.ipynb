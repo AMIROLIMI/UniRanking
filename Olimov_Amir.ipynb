{
 "cells": [
  {
   "cell_type": "code",
   "execution_count": null,
   "metadata": {},
   "outputs": [],
   "source": [
    "import warnings\n",
    "warnings.simplefilter('ignore')\n",
    "\n",
    "%matplotlib inline\n",
    "import seaborn as sns\n",
    "import matplotlib.pyplot as plt\n",
    "%config InlineBackend.figure_format = 'svg'\n",
    "\n",
    "from pylab import rcParams\n",
    "rcParams['figure.figsize'] = 8, 5\n",
    "import pandas as pd\n",
    "import numpy as np\n",
    "import plotly.graph_objs as go\n",
    "from plotly.offline import iplot"
   ]
  },
  {
   "cell_type": "code",
   "execution_count": null,
   "metadata": {},
   "outputs": [],
   "source": [
    "df = pd.read_csv('World_University_Ranking.csv')"
   ]
  },
  {
   "cell_type": "code",
   "execution_count": null,
   "metadata": {},
   "outputs": [],
   "source": [
    "print(\"Первичные строки данных:\")\n",
    "df.head()"
   ]
  },
  {
   "cell_type": "code",
   "execution_count": null,
   "metadata": {},
   "outputs": [],
   "source": [
    "df.shape"
   ]
  },
  {
   "cell_type": "code",
   "execution_count": null,
   "metadata": {},
   "outputs": [],
   "source": [
    "df.columns"
   ]
  },
  {
   "cell_type": "code",
   "execution_count": null,
   "metadata": {},
   "outputs": [],
   "source": [
    "print(\"\\nИнформация о данных:\")\n",
    "print(df.info())"
   ]
  },
  {
   "cell_type": "code",
   "execution_count": null,
   "metadata": {},
   "outputs": [],
   "source": [
    "print(\"\\nСтатистическое описание данных:\")\n",
    "print(df.describe())"
   ]
  },
  {
   "cell_type": "code",
   "execution_count": null,
   "metadata": {},
   "outputs": [],
   "source": [
    "print(\"\\nСтатистическое описание данных:\")\n",
    "df.describe()"
   ]
  },
  {
   "cell_type": "code",
   "execution_count": null,
   "metadata": {},
   "outputs": [],
   "source": [
    "print(\"\\nСтатистическое описание данных для объектных и булевых столбцов:\")\n",
    "df.describe(include=['object','bool'])"
   ]
  },
  {
   "cell_type": "code",
   "execution_count": null,
   "metadata": {},
   "outputs": [],
   "source": [
    "# Количество уникальных значений для каждой колонки\n",
    "for column in df.columns:\n",
    "    print(f\"{column}: {df[column].nunique()}\")"
   ]
  },
  {
   "cell_type": "code",
   "execution_count": null,
   "metadata": {},
   "outputs": [],
   "source": [
    "# Распределение рейтингов универ-ов по странам\n",
    "plt.figure(figsize=(14, 8))\n",
    "sns.countplot(y='country', data=df, order=df['country'].value_counts().index)\n",
    "plt.title('Количество университетов по странам')\n",
    "plt.xlabel('Количество университетов')\n",
    "plt.ylabel('Страна')\n",
    "plt.show()"
   ]
  },
  {
   "cell_type": "code",
   "execution_count": null,
   "metadata": {},
   "outputs": [],
   "source": [
    "# Распределение оценок универ-ов по годам\n",
    "plt.figure(figsize=(14, 8))\n",
    "sns.boxplot(x='year', y='score', data=df)\n",
    "plt.title('Распределение оценок университетов по годам')\n",
    "plt.xlabel('Год')\n",
    "plt.ylabel('Оценка')\n",
    "plt.show()"
   ]
  },
  {
   "cell_type": "code",
   "execution_count": null,
   "metadata": {},
   "outputs": [],
   "source": [
    "# Топ-10 универ-ов по качеству образования\n",
    "top_education_quality = df.sort_values(by='quality_of_education', ascending=False).head(10)\n",
    "\n",
    "plt.figure(figsize=(14, 8))\n",
    "\n",
    "# Используем стиль для лучшего отображения\n",
    "sns.set(style=\"whitegrid\")\n",
    "\n",
    "# Создаем палитру цветов\n",
    "palette = sns.color_palette(\"viridis\", len(top_education_quality))\n",
    "\n",
    "# Построение графика\n",
    "barplot = sns.barplot(\n",
    "    x='quality_of_education', \n",
    "    y='institution', \n",
    "    data=top_education_quality, \n",
    "    palette=palette\n",
    ")\n",
    "\n",
    "# Доб заголовка и меток осей\n",
    "plt.title('Топ-10 университетов по качеству образования', fontsize=16, weight='bold')\n",
    "plt.xlabel('Качество образования', fontsize=14)\n",
    "plt.ylabel('Университет', fontsize=14)\n",
    "\n",
    "# Отображ знач на барах\n",
    "for index, value in enumerate(top_education_quality['quality_of_education']):\n",
    "    barplot.text(value, index, round(value, 2), color='black', ha=\"left\", va=\"center\")\n",
    "\n",
    "# Уд верхней и правой рамок (для более эстетичного вида:))\n",
    "sns.despine(left=True, bottom=True)\n",
    "\n",
    "plt.show()"
   ]
  },
  {
   "cell_type": "code",
   "execution_count": null,
   "metadata": {},
   "outputs": [],
   "source": [
    "plt.figure(figsize=(10, 6))\n",
    "sns.histplot(df['world_rank'], bins=50, kde=True)\n",
    "plt.title('Распределение мирового рейтинга')\n",
    "plt.xlabel('Мировой рейтинг')\n",
    "plt.ylabel('Количество университетов')\n",
    "plt.show()"
   ]
  },
  {
   "cell_type": "code",
   "execution_count": null,
   "metadata": {},
   "outputs": [],
   "source": [
    "numeric_df = df.select_dtypes(include=[np.number])\n",
    "plt.figure(figsize=(10, 8))\n",
    "sns.heatmap(numeric_df.corr(), annot=True, cmap='coolwarm', fmt='.2f')\n",
    "plt.title('Корреляция между различными показателями')\n",
    "plt.show()"
   ]
  },
  {
   "cell_type": "code",
   "execution_count": null,
   "metadata": {},
   "outputs": [],
   "source": [
    "plt.figure(figsize=(10, 6))\n",
    "sns.lineplot(data=df, x='year', y='score', hue='country', ci=None, estimator='mean')\n",
    "plt.title('Изменение среднего балла по годам')\n",
    "plt.xlabel('Год')\n",
    "plt.ylabel('Средний балл')\n",
    "plt.legend(loc='upper left', bbox_to_anchor=(1, 1))\n",
    "plt.show()"
   ]
  },
  {
   "cell_type": "code",
   "execution_count": null,
   "metadata": {},
   "outputs": [],
   "source": [
    "plt.figure(figsize=(10, 6))\n",
    "sns.scatterplot(data=df, x='publications', y='score', hue='country', palette='tab10', legend=False)\n",
    "plt.title('Влияние публикаций на общий балл')\n",
    "plt.xlabel('Количество публикаций')\n",
    "plt.ylabel('Общий балл')\n",
    "plt.show()\n"
   ]
  },
  {
   "cell_type": "code",
   "execution_count": null,
   "metadata": {},
   "outputs": [],
   "source": [
    "plt.figure(figsize=(10, 6))\n",
    "sns.scatterplot(data=df, x='citations', y='score', hue='country', palette='tab10', legend=False)\n",
    "plt.title('Влияние цитирований на общий балл')\n",
    "plt.xlabel('Количество цитирований')\n",
    "plt.ylabel('Общий балл')\n",
    "plt.show()"
   ]
  },
  {
   "cell_type": "code",
   "execution_count": null,
   "metadata": {},
   "outputs": [],
   "source": [
    "\n",
    "cols = ['world_rank', 'quality_of_education', 'alumni_employment', 'quality_of_faculty', 'publications', 'influence', 'citations', 'broad_impact', 'patents', 'score']\n",
    "numeric_df = df[cols]\n",
    "\n",
    "# Строим парные диаграммы\n",
    "sns_plot = sns.pairplot(numeric_df)\n",
    "sns_plot.savefig('pairplot.png')\n",
    "\n",
    "plt.show()\n"
   ]
  },
  {
   "cell_type": "code",
   "execution_count": null,
   "metadata": {},
   "outputs": [],
   "source": [
    "# Группировка данных по годам и расчет среднего балла и количества университетов\n",
    "years_df = df.groupby('year')[['score']].mean().join(\n",
    "    df.groupby('year')[['institution']].count()\n",
    ")\n",
    "years_df.columns = ['Average_Score', 'Number_of_Universities']\n",
    "\n",
    "# Созд графиков \n",
    "trace0 = go.Scatter(\n",
    "    x = years_df.index,\n",
    "    y = years_df['Average_Score'],\n",
    "    name = 'Average Score',\n",
    "    mode = 'lines+markers'\n",
    ")\n",
    "trace1 = go.Scatter(\n",
    "    x = years_df.index,\n",
    "    y = years_df['Number_of_Universities'],\n",
    "    name = 'Number of Universities',\n",
    "    mode = 'lines+markers',\n",
    "    yaxis='y2'\n",
    ")\n",
    "data = [trace0, trace1]\n",
    "\n",
    "# Настройка\n",
    "layout = go.Layout(\n",
    "    title = 'University Rankings Statistics Over the Years',\n",
    "    xaxis = dict(title = 'Year'),\n",
    "    yaxis = dict(title = 'Average Score'),\n",
    "    yaxis2 = dict(\n",
    "        title = 'Number of Universities',\n",
    "        overlaying = 'y',\n",
    "        side = 'right'\n",
    "    ),\n",
    "    legend=dict(x=0.1, y=1.1)\n",
    ")\n",
    "fig = go.Figure(data=data, layout=layout)\n",
    "\n",
    "iplot(fig, show_link=False)\n"
   ]
  },
  {
   "cell_type": "code",
   "execution_count": null,
   "metadata": {},
   "outputs": [],
   "source": [
    "\n",
    "countries_df = df.groupby('country')[['score']].mean().join(\n",
    "    df.groupby('country')[['institution']].count()\n",
    ")\n",
    "countries_df.columns = ['Average_Score', 'Number_of_Universities']\n",
    "\n",
    "# Созд столбчатых диаграмм\n",
    "trace0 = go.Bar(\n",
    "    x = countries_df.index,\n",
    "    y = countries_df['Average_Score'],\n",
    "    name = 'Average Score'\n",
    ")\n",
    "\n",
    "trace1 = go.Bar(\n",
    "    x = countries_df.index,\n",
    "    y = countries_df['Number_of_Universities'],\n",
    "    name = 'Number of Universities'\n",
    ")\n",
    "\n",
    "data = [trace0, trace1]\n",
    "\n",
    "# Настройка\n",
    "layout = {\n",
    "    'title': 'University Rankings by Country',\n",
    "    'xaxis': {'title': 'Country'},\n",
    "    'yaxis': {'title': 'Values'},\n",
    "    'barmode': 'group'\n",
    "}\n",
    "fig = go.Figure(data=data, layout=layout)\n",
    "\n",
    "# Отображение\n",
    "iplot(fig, show_link=False)\n"
   ]
  },
  {
   "cell_type": "code",
   "execution_count": null,
   "metadata": {},
   "outputs": [],
   "source": [
    "\n",
    "cols = ['quality_of_education', 'alumni_employment', 'score']\n",
    "data = df[cols]\n",
    "\n",
    "# Созд фигуры \n",
    "fig = plt.figure(1, figsize=(10, 8))\n",
    "ax = fig.add_subplot(111, projection='3d', elev=30, azim=134)\n",
    "\n",
    "# Очистка предыдущих графиков\n",
    "plt.cla()\n",
    "\n",
    "# Созд цветовой карты для стран\n",
    "countries = df['country'].unique()\n",
    "colors = plt.cm.jet(np.linspace(0, 1, len(countries)))\n",
    "country_color_map = dict(zip(countries, colors))\n",
    "\n",
    "# Отображ универ-ов в трехмерном пр-ве\n",
    "for country in countries:\n",
    "    subset = df[df['country'] == country]\n",
    "    ax.scatter(subset['quality_of_education'], subset['alumni_employment'], subset['score'], \n",
    "               label=country, c=country_color_map[country], edgecolor='w', s=50)\n",
    "\n",
    "# Настройка \n",
    "ax.set_xlabel('Quality of Education')\n",
    "ax.set_ylabel('Alumni Employment')\n",
    "ax.set_zlabel('Score')\n",
    "ax.set_title('3D Visualization of University Rankings')\n",
    "\n",
    "# Добавление легенды\n",
    "ax.legend(loc='best', bbox_to_anchor=(1.05, 1), borderaxespad=0.)\n",
    "\n",
    "plt.show()\n"
   ]
  },
  {
   "cell_type": "code",
   "execution_count": null,
   "metadata": {},
   "outputs": [],
   "source": [
    "# Анализ трендов для отдельных стран\n",
    "countries_of_interest = ['United States', 'United Kingdom', 'China', 'Germany', 'Japan']\n",
    "plt.figure(figsize=(12, 8))\n",
    "\n",
    "for country in countries_of_interest:\n",
    "    subset = df[df['country'] == country]\n",
    "    sns.lineplot(data=subset, x='year', y='score', label=country)\n",
    "\n",
    "plt.title('Изменение среднего балла по годам для отдельных стран')\n",
    "plt.xlabel('Год')\n",
    "plt.ylabel('Средний балл')\n",
    "plt.legend(loc='upper left', bbox_to_anchor=(1, 1))\n",
    "plt.show()"
   ]
  }
 ],
 "metadata": {
  "kernelspec": {
   "display_name": ".venv",
   "language": "python",
   "name": "python3"
  },
  "language_info": {
   "codemirror_mode": {
    "name": "ipython",
    "version": 3
   },
   "file_extension": ".py",
   "mimetype": "text/x-python",
   "name": "python",
   "nbconvert_exporter": "python",
   "pygments_lexer": "ipython3",
   "version": "3.12.3"
  }
 },
 "nbformat": 4,
 "nbformat_minor": 2
}
